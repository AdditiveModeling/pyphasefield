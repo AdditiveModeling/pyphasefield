{
 "cells": [
  {
   "cell_type": "markdown",
   "metadata": {},
   "source": [
    "# Pyphasefield"
   ]
  },
  {
   "cell_type": "markdown",
   "metadata": {},
   "source": [
    "### Installation Requirements\n",
    "\n",
    "* numpy (pip install numpy)\n",
    "* matplotlib (pip install matplotlib)\n",
    "* meshio (pip install meshio)\n",
    "* (recommended) pycalphad (conda install -c pycalphad -c conda-forge pycalphad)\n",
    "* (recommended) cudatoolkit (conda install cudatoolkit)\n",
    "* (recommended) numba (conda install numba)"
   ]
  },
  {
   "cell_type": "markdown",
   "metadata": {},
   "source": [
    "### Code Format\n",
    "\n",
    "- pyphasefield\n",
    "    - Engines\n",
    "        - Cahn-Allen.py\n",
    "        - Cahn-Hilliard.py\n",
    "        - Diffusion.py\n",
    "        - Dorr2010.py\n",
    "        - Warren1995.py\n",
    "        - Karma2001.py\n",
    "        - NComponent.py\n",
    "        - NCGPU.py\n",
    "    - tests\n",
    "    - examples\n",
    "    - field.py\n",
    "    - simulation.py\n",
    "    - ppf_utils.py\n",
    "    - ppf_gpu_utils.py\n",
    "    \n",
    "pyphasefield/Engines/Cahn-Allen.py: Implementation of Cahn-Allen non-conserved phase field model\n",
    "\n",
    "pyphasefield/Engines/Cahn-Hilliard.py: Implementation of Cahn-Hilliard conserved phase field model\n",
    "\n",
    "pyphasefield/Engines/Diffusion.py: Implementation of simple diffusion phase field model\n",
    "\n",
    "pyphasefield/Engines/Dorr2010.py: Implementation of fully-explicit version of the phase field model from Dorr2010 paper, \"A numerical algorithm for the solution of a phase-field model of polycrystalline materials\"\n",
    "\n",
    "pyphasefield/Engines/Warren1995.py: Implementation of the phase field model from Warren1995 paper, \"Prediction of Dendritic Growth and Microsegregation Patterns in a Binary Alloy using the Phase-Field Method\"\n",
    "\n",
    "pyphasefield/Engines/Karma2001.py: Implementation of the phase field model from Karma2001 paper, \"Phase-Field Formulation for Quantitative Modeling of Alloy Solidification\"\n",
    "\n",
    "pyphasefield/Engines/NComponent.py: Implementation of our N-Component, 2-phase polycrystalline phase field model\n",
    "\n",
    "pyphasefield/Engines/NCGPU.py: Implementation of our N-Component, 2-phase polycrystalline phase field model using numba to run on a GPU\n",
    "\n",
    "pyphasefield/field.py: Implementation of the Field class, which stores the field name, and data at each point\n",
    "\n",
    "pyphasefield/simulation.py: Implementation of the Simulation class, which runs a simulation and allows access to the data from the simulation\n",
    "\n",
    "pyphasefield/ppf_utils.py: Utility functions for pyphasefield\n",
    "\n",
    "pyphasefield/ppf_gpu_utils.py: Utility functions specifically for GPU codes, including general-purpose GPU kernels\n",
    "\n",
    "pyphasefield/tests: pytest files\n",
    "\n",
    "pyphasefield/examples: example python scripts\n"
   ]
  },
  {
   "cell_type": "markdown",
   "metadata": {},
   "source": [
    "### Examples\n",
    "\n",
    "These are implementations of the example python scripts in the pyphasefield/examples folder, slightly modified to be usable in a ipynb cell\n",
    "\n",
    "diffusion_example.py:"
   ]
  },
  {
   "cell_type": "code",
   "execution_count": null,
   "metadata": {},
   "outputs": [],
   "source": [
    "import sys\n",
    "sys.path.insert(0,\"..\")\n",
    "import pyphasefield as ppf\n",
    "\n",
    "sim = ppf.Simulation(\"data/diffusion_test\")\n",
    "sim.init_sim_Diffusion([20])\n",
    "sim.plot_simulation()\n",
    "sim.simulate(100)\n",
    "sim.save_simulation()\n",
    "sim.plot_simulation()"
   ]
  },
  {
   "cell_type": "markdown",
   "metadata": {},
   "source": [
    "Example for DiffusionGPU engine:"
   ]
  },
  {
   "cell_type": "code",
   "execution_count": null,
   "metadata": {},
   "outputs": [],
   "source": [
    "import sys\n",
    "sys.path.insert(0,\"..\")\n",
    "import pyphasefield as ppf\n",
    "\n",
    "sim = ppf.Simulation(\"data/diffusionGPU_test\")\n",
    "sim.init_sim_DiffusionGPU([200, 200], cuda_blocks=(16,16), cuda_threads_per_block=(256,1))\n",
    "sim.send_fields_to_GPU()\n",
    "sim.plot_simulation()\n",
    "sim.simulate(1000)\n",
    "sim.save_simulation()\n",
    "sim.plot_simulation()"
   ]
  },
  {
   "cell_type": "markdown",
   "metadata": {},
   "source": [
    "warren1995_example.py:"
   ]
  },
  {
   "cell_type": "code",
   "execution_count": null,
   "metadata": {},
   "outputs": [],
   "source": [
    "import sys\n",
    "sys.path.insert(0,\"..\")\n",
    "import pyphasefield as ppf\n",
    "import matplotlib.pyplot as plt\n",
    "\n",
    "sim = ppf.Simulation(save_path=\"data/warren1995_test\")\n",
    "sim.init_sim_Warren1995([200, 200], diamond_size=10)\n",
    "sim.plot_simulation()\n",
    "for i in range(10):\n",
    "    sim.simulate(50)\n",
    "    print(str((i+1)*10)+\"% done!\")\n",
    "sim.plot_simulation()"
   ]
  },
  {
   "cell_type": "markdown",
   "metadata": {},
   "source": [
    "NComponent_example.py (requires pycalphad):"
   ]
  },
  {
   "cell_type": "code",
   "execution_count": null,
   "metadata": {},
   "outputs": [],
   "source": [
    "import sys\n",
    "sys.path.insert(0,\"..\")\n",
    "import numpy as np\n",
    "import pyphasefield as ppf\n",
    "\n",
    "saveloc = input(\"What folder in data to save under? \")\n",
    "sim = ppf.Simulation(save_path=\"data/\"+saveloc)\n",
    "sim.init_sim_NComponent(dim=[200, 200], tdb_path=\"examples/Ni-Cu_Ideal.tdb\", sim_type=\"seed\", initial_temperature=1574, initial_concentration_array=[0.3937])\n",
    "initial_step = int(input(\"What step to load from? (-1 = new simulation) \"))\n",
    "if(initial_step == -1):\n",
    "    sim.save_simulation()\n",
    "else:\n",
    "    sim.load_simulation(step=initial_step)\n",
    "sim._time_steps_per_checkpoint = 1000\n",
    "sim._boundary_conditions_type = [\"periodic\", \"periodic\"]\n",
    "sim.fields[1].data[:] = np.cos(np.pi/8)\n",
    "sim.fields[2].data[:] = np.sin(np.pi/8)\n",
    "\n",
    "totalsteps = int(input(\"How many steps to run? (10000 for a decent sized dendrite, ~10 minutes) \"))\n",
    "progress_bar_steps=int(totalsteps/20)\n",
    "for i in range(20):\n",
    "    sim.simulate(progress_bar_steps)\n",
    "    print(str((i+1)*progress_bar_steps)+\" steps completed out of \"+str(totalsteps))\n",
    "sim.simulate(totalsteps-20*progress_bar_steps)\n",
    "print(\"Completed!\")\n",
    "\n",
    "sim.plot_simulation()"
   ]
  },
  {
   "cell_type": "markdown",
   "metadata": {},
   "source": [
    "NCGPU example (requires pycalphad, numba, and cudatoolkit):"
   ]
  },
  {
   "cell_type": "code",
   "execution_count": null,
   "metadata": {},
   "outputs": [],
   "source": [
    "import sys\n",
    "sys.path.insert(0,\"..\")\n",
    "import numpy as np\n",
    "import pyphasefield as ppf\n",
    "\n",
    "\n",
    "saveloc = input(\"What folder in data to save under?\")\n",
    "sim = ppf.Simulation(save_path=\"data/\"+saveloc)\n",
    "sim.init_sim_NCGPU(dim=[200, 200], tdb_path=\"examples/Ni-Cu_Ideal.tdb\", sim_type=\"seed\", initial_temperature=1574, initial_concentration_array=[0.3937])\n",
    "initial_step = int(input(\"What step to load from? (-1 = new simulation)\"))\n",
    "if(initial_step == -1):\n",
    "    sim.save_simulation()\n",
    "else:\n",
    "    sim.load_simulation(step=initial_step)\n",
    "sim._time_steps_per_checkpoint = 1000\n",
    "sim._boundary_conditions_type = [\"periodic\", \"periodic\"]\n",
    "sim.fields[1].data[:] = np.cos(np.pi/8)\n",
    "sim.fields[2].data[:] = np.sin(np.pi/8)\n",
    "\n",
    "totalsteps = int(input(\"How many steps to run? (10000 for a decent sized dendrite)\"))\n",
    "progress_bar_steps=int(totalsteps/20)\n",
    "\n",
    "#only significant difference between the codes - need to send data to the GPU\n",
    "sim.send_fields_to_GPU()\n",
    "\n",
    "for i in range(20):\n",
    "    sim.simulate(progress_bar_steps)\n",
    "    print(str((i+1)*progress_bar_steps)+\" steps completed out of \"+str(totalsteps))\n",
    "sim.simulate(totalsteps-20*progress_bar_steps)\n",
    "print(\"Completed!\")\n",
    "\n",
    "sim.plot_simulation()\n",
    "\n",
    "#slight differences will be observed due to different discretization schemes used in GPU version at present"
   ]
  },
  {
   "cell_type": "code",
   "execution_count": null,
   "metadata": {},
   "outputs": [],
   "source": [
    "import sys\n",
    "sys.path.insert(0,\"..\")\n",
    "import pyphasefield as ppf\n",
    "\n",
    "sim = ppf.Simulation(\"save_path\")\n",
    "sim.init_sim_NCGPU(dim=[200, 200], \n",
    "                   tdb_path=\"examples/Ni-Cu_Ideal.tdb\", \n",
    "                   sim_type=\"seed\", \n",
    "                   initial_concentration_array=[0.3937]\n",
    "                  )\n",
    "sim._time_steps_per_checkpoint = 1000\n",
    "sim.send_fields_to_GPU()\n",
    "sim.simulate(10000)\n",
    "sim.plot_simulation(save_images=True)\n"
   ]
  },
  {
   "cell_type": "code",
   "execution_count": null,
   "metadata": {},
   "outputs": [],
   "source": [
    "import sys\n",
    "sys.path.insert(0,\"..\")\n",
    "import pyphasefield.Engines as engines\n",
    "dir(engines)"
   ]
  },
  {
   "cell_type": "code",
   "execution_count": null,
   "metadata": {},
   "outputs": [],
   "source": [
    "import sys\n",
    "sys.path.insert(0,\"..\")\n",
    "import pyphasefield.Engines as engines\n",
    "\n",
    "\n",
    "sim = engines.Diffusion(dimensions=[200, 200])\n",
    "\n",
    "#initialize non-array parameters\n",
    "sim.set_framework(\"CPU_SERIAL\") #\"CPU_SERIAL\", \"GPU_SERIAL\"\n",
    "sim.set_dx(1.)\n",
    "sim.set_dt(0.1)\n",
    "sim.set_time_step_counter(0)\n",
    "sim.set_temperature_type(None) #None, \"ISOTHERMAL\", \"LINEAR_GRADIENT\", \"XDMF_FILE\"\n",
    "sim.set_temperature_initial_T(None)\n",
    "sim.set_temperature_dTdx(None)\n",
    "sim.set_temperature_dTdy(None)\n",
    "sim.set_temperature_dTdz(None)\n",
    "sim.set_temperature_dTdt(None)\n",
    "sim.set_temperature_path(None)\n",
    "sim.set_temperature_units(None)\n",
    "sim.set_tdb_path(None)\n",
    "sim.set_tdb_phases(None)\n",
    "sim.set_tdb_components(None)\n",
    "sim.set_save_path(None)\n",
    "sim.set_autosave_flag(False)\n",
    "sim.set_autosave_save_images_flag(False)\n",
    "sim.set_autosave_rate(100000)\n",
    "sim.set_boundary_conditions(\"PERIODIC\")\n",
    "\n",
    "data = {\n",
    "    \"D\":1.\n",
    "}\n",
    "sim.set_user_data(data)\n",
    "\n",
    "#initialize simulation arrays, all parameter changes should be BEFORE this point!\n",
    "sim.initialize_fields_and_imported_data()\n",
    "\n",
    "#change array data here, for custom simulations\n",
    "\n",
    "\n",
    "#run simulation\n",
    "sim.simulate(2000)\n",
    "sim.plot_simulation(save_images=False)"
   ]
  },
  {
   "cell_type": "code",
   "execution_count": 1,
   "metadata": {},
   "outputs": [
    {
     "name": "stderr",
     "output_type": "stream",
     "text": [
      "C:\\Users\\scott\\anaconda3\\lib\\site-packages\\pycalphad\\io\\tdb.py:965: UserWarning: The type definition character `%` was defined in the following phases: ['FCC_A1', 'LIQUID'], but no corresponding TYPE_DEFINITION line was found in the TDB.\n",
      "  warnings.warn(f\"The type definition character `{typechar}` was defined in the following phases: \"\n"
     ]
    },
    {
     "name": "stdout",
     "output_type": "stream",
     "text": [
      "self.user_data[\"melt_angle\"] not defined, defaulting to 0\n",
      "self.user_data[\"melt_angle\"] not defined, defaulting to pi/4\n"
     ]
    },
    {
     "data": {
      "image/png": "[encoded data removed]",
      "text/plain": [
       "<Figure size 432x288 with 2 Axes>"
      ]
     },
     "metadata": {
      "needs_background": "light"
     },
     "output_type": "display_data"
    },
    {
     "data": {
      "image/png": "[encoded data removed]",
      "text/plain": [
       "<Figure size 432x288 with 2 Axes>"
      ]
     },
     "metadata": {
      "needs_background": "light"
     },
     "output_type": "display_data"
    },
    {
     "data": {
      "image/png": "[encoded data removed]",
      "text/plain": [
       "<Figure size 432x288 with 2 Axes>"
      ]
     },
     "metadata": {
      "needs_background": "light"
     },
     "output_type": "display_data"
    },
    {
     "data": {
      "image/png": "[encoded data removed]",
      "text/plain": [
       "<Figure size 432x288 with 2 Axes>"
      ]
     },
     "metadata": {
      "needs_background": "light"
     },
     "output_type": "display_data"
    },
    {
     "name": "stdout",
     "output_type": "stream",
     "text": [
      "1574.0\n"
     ]
    },
    {
     "data": {
      "image/png": "[encoded data removed]",
      "text/plain": [
       "<Figure size 432x288 with 1 Axes>"
      ]
     },
     "metadata": {
      "needs_background": "light"
     },
     "output_type": "display_data"
    }
   ],
   "source": [
    "import sys\n",
    "sys.path.insert(0,\"..\")\n",
    "import pyphasefield.Engines as engines\n",
    "import matplotlib.pyplot as plt\n",
    "\n",
    "\n",
    "sim = engines.NCGPU(dimensions=[40, 40])\n",
    "\n",
    "#initialize non-array parameters\n",
    "sim.set_framework(\"GPU_SERIAL\") #\"CPU_SERIAL\", \"GPU_SERIAL\"\n",
    "sim.set_dx(0.0000046)\n",
    "sim.set_time_step_counter(0)\n",
    "sim.set_temperature_type(\"ISOTHERMAL\") #None, \"ISOTHERMAL\", \"LINEAR_GRADIENT\", \"XDMF_FILE\"\n",
    "sim.set_temperature_initial_T(1574.)\n",
    "sim.set_temperature_dTdx(None)\n",
    "sim.set_temperature_dTdy(None)\n",
    "sim.set_temperature_dTdz(None)\n",
    "sim.set_temperature_dTdt(None)\n",
    "sim.set_temperature_path(None)\n",
    "sim.set_temperature_units(\"K\")\n",
    "sim.set_tdb_path(\"tests/Ni-Cu_Ideal.tdb\")\n",
    "sim.set_tdb_phases(None)\n",
    "sim.set_tdb_components(None)\n",
    "sim.set_save_path(None)\n",
    "sim.set_autosave_flag(False)\n",
    "sim.set_autosave_save_images_flag(False)\n",
    "sim.set_autosave_rate(100000)\n",
    "sim.set_boundary_conditions(\"NEUMANN\")\n",
    "\n",
    "data = {\n",
    "    \"D\":1.,\n",
    "    \"d_ratio\":4.,\n",
    "    \"sim_type\":\"seed\",\n",
    "    \"initial_concentration_array\":[0.40831]\n",
    "}\n",
    "sim.set_user_data(data)\n",
    "\n",
    "#initialize simulation arrays, all parameter changes should be BEFORE this point!\n",
    "sim.initialize_fields_and_imported_data()\n",
    "\n",
    "#change array data here, for custom simulations\n",
    "\n",
    "\n",
    "#run simulation\n",
    "sim.simulate(100)\n",
    "sim.plot_simulation(interpolation=\"nearest\", save_images=False)\n",
    "plt.imshow(sim.temperature.data)\n",
    "print(sim.temperature.data[0][0])"
   ]
  },
  {
   "cell_type": "code",
   "execution_count": 4,
   "metadata": {},
   "outputs": [
    {
     "data": {
      "image/png": "[encoded data removed]",
      "text/plain": [
       "<Figure size 432x288 with 2 Axes>"
      ]
     },
     "metadata": {
      "needs_background": "light"
     },
     "output_type": "display_data"
    },
    {
     "data": {
      "image/png": "[encoded data removed]",
      "text/plain": [
       "<Figure size 432x288 with 2 Axes>"
      ]
     },
     "metadata": {
      "needs_background": "light"
     },
     "output_type": "display_data"
    },
    {
     "data": {
      "image/png": "[encoded data removed]",
      "text/plain": [
       "<Figure size 432x288 with 2 Axes>"
      ]
     },
     "metadata": {
      "needs_background": "light"
     },
     "output_type": "display_data"
    },
    {
     "data": {
      "image/png": "[encoded data removed]",
      "text/plain": [
       "<Figure size 432x288 with 2 Axes>"
      ]
     },
     "metadata": {
      "needs_background": "light"
     },
     "output_type": "display_data"
    }
   ],
   "source": [
    "sim.simulate(1000)\n",
    "sim.plot_simulation(interpolation=\"nearest\", save_images=False)"
   ]
  },
  {
   "cell_type": "code",
   "execution_count": null,
   "metadata": {},
   "outputs": [],
   "source": []
  }
 ],
 "metadata": {
  "kernelspec": {
   "display_name": "Python 3",
   "language": "python",
   "name": "python3"
  },
  "language_info": {
   "codemirror_mode": {
    "name": "ipython",
    "version": 3
   },
   "file_extension": ".py",
   "mimetype": "text/x-python",
   "name": "python",
   "nbconvert_exporter": "python",
   "pygments_lexer": "ipython3",
   "version": "3.8.5"
  }
 },
 "nbformat": 4,
 "nbformat_minor": 2
}
